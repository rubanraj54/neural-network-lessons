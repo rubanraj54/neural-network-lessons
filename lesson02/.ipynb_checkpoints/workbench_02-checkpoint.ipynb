{
 "cells": [
  {
   "cell_type": "code",
   "execution_count": 8,
   "metadata": {
    "collapsed": true
   },
   "outputs": [],
   "source": [
    "import numpy as np\n",
    "from matplotlib import pyplot as plt\n",
    "%matplotlib inline"
   ]
  },
  {
   "cell_type": "code",
   "execution_count": 11,
   "metadata": {},
   "outputs": [
    {
     "data": {
      "text/html": [
       "\n",
       "<style>\n",
       "\n",
       "div.cell { /* Tunes the space between cells */\n",
       "margin-top:1em;\n",
       "margin-bottom:1em;\n",
       "}\n",
       "\n",
       "div.text_cell_render h1 { /* Main titles bigger, centered */\n",
       "font-size: 2.2em;\n",
       "line-height:1.4em;\n",
       "}\n",
       "\n",
       "div.text_cell_render h2 { /*  Parts names nearer from text */\n",
       "margin-bottom: -0.4em;\n",
       "}\n",
       "\n",
       "\n",
       "div.text_cell_render { /* Customize text cells */\n",
       "font-family: 'Comic Sans';\n",
       "font-size:1.8em;\n",
       "line-height:1.4em;\n",
       "}\n",
       "</style>\n"
      ],
      "text/plain": [
       "<IPython.core.display.HTML object>"
      ]
     },
     "execution_count": 11,
     "metadata": {},
     "output_type": "execute_result"
    }
   ],
   "source": [
    "from IPython.core.display import HTML\n",
    "HTML(\"\"\"\n",
    "<style>\n",
    "\n",
    "div.cell { /* Tunes the space between cells */\n",
    "margin-top:1em;\n",
    "margin-bottom:1em;\n",
    "}\n",
    "\n",
    "div.text_cell_render h1 { /* Main titles bigger, centered */\n",
    "font-size: 2.2em;\n",
    "line-height:1.4em;\n",
    "}\n",
    "\n",
    "div.text_cell_render h2 { /*  Parts names nearer from text */\n",
    "margin-bottom: -0.4em;\n",
    "}\n",
    "\n",
    "\n",
    "div.text_cell_render { /* Customize text cells */\n",
    "font-family: 'Comic Sans';\n",
    "font-size:1.8em;\n",
    "line-height:1.4em;\n",
    "}\n",
    "</style>\n",
    "\"\"\")"
   ]
  },
  {
   "cell_type": "markdown",
   "metadata": {},
   "source": [
    "# References\n",
    "\n",
    "www.google.com"
   ]
  },
  {
   "cell_type": "markdown",
   "metadata": {},
   "source": [
    "## Lesson 2 : Classification of data points using basic and simple **\"sign function\"**"
   ]
  },
  {
   "cell_type": "markdown",
   "metadata": {},
   "source": [
    "Agenda:\n",
    "* Recap from lesson 1\n",
    "* Recap of how sign function works\n",
    "* Algorithm overview\n",
    "* Implementation of simple neural network for data points classification"
   ]
  },
  {
   "cell_type": "markdown",
   "metadata": {},
   "source": [
    "## Algorithm Overview \n",
    "\n",
    "Assumption:\n",
    "\n",
    "Input layer: 2 neurons\n",
    "\n",
    "Hidden layer: 3 neurons\n",
    "\n",
    "Output layer: 1 neurons\n",
    "\n",
    "**Traning phase steps:**\n",
    "\n",
    "1. Genrate 1000 random points from a 2D plane and label them (500 points from 1st quadrant and 500 points from 2nd quadrant)\n",
    "\n",
    "2. Initialize random weights\n",
    "\n",
    "3. \n",
    "\n",
    "4. \n",
    "\n",
    "**Testing phase steps:**"
   ]
  },
  {
   "cell_type": "code",
   "execution_count": 70,
   "metadata": {},
   "outputs": [],
   "source": [
    "class GenderClassifier:\n",
    "    \n",
    "    def __init__(self,num_of_input_neurons,\n",
    "                 num_of_hidden_neurons,\n",
    "                 num_of_output_neurons,\n",
    "                 num_of_testing_samples):\n",
    "        \n",
    "        self.num_of_input_neurons = num_of_input_neurons\n",
    "        self.num_of_hidden_neurons = num_of_hidden_neurons\n",
    "        self.num_of_output_neurons = num_of_output_neurons\n",
    "        self.num_of_testing_samples = num_of_testing_samples\n",
    "        \n",
    "        \n",
    "    def generate_sample(self,quadrant):\n",
    "        if quadrant is 1:\n",
    "            x = np.random.uniform(0.0,10.0)\n",
    "            y = np.random.uniform(0.0,10.0)\n",
    "        if quadrant is 3:\n",
    "            x = np.random.uniform(0.0,-10.0)\n",
    "            y = np.random.uniform(0.0,-10.0)\n",
    "        return x,y\n",
    "        \n",
    "    \n",
    "    def generate_samples(self,number,quadrant):\n",
    "        samples = np.empty((0,3))\n",
    "        \n",
    "        for i in range(self.num_of_testing_samples):\n",
    "            if i%2 is 0:\n",
    "                quadrant = 1\n",
    "                x,y = self.generate_sample(quadrant)\n",
    "            else:\n",
    "                quadrant = 3\n",
    "                x,y = self.generate_sample(quadrant)\n",
    "            samples = np.vstack([samples,[x,y,quadrant]])\n",
    "        \n",
    "        return samples"
   ]
  },
  {
   "cell_type": "code",
   "execution_count": 80,
   "metadata": {},
   "outputs": [
    {
     "data": {
      "image/png": "[encoded data removed]",
      "text/plain": [
       "<matplotlib.figure.Figure at 0x7fd92c2d9950>"
      ]
     },
     "metadata": {},
     "output_type": "display_data"
    }
   ],
   "source": [
    "#initial network configuration\n",
    "num_of_input_neurons = 2\n",
    "num_of_hidden_neurons = 3\n",
    "num_of_output_neurons = 1\n",
    "\n",
    "num_of_testing_samples = 1000\n",
    "\n",
    "\n",
    "gc = GenderClassifier(num_of_input_neurons,\n",
    "                      num_of_hidden_neurons,\n",
    "                      num_of_output_neurons,\n",
    "                      num_of_testing_samples)\n",
    "\n",
    "training_samples = gc.generate_samples(100,1)\n",
    "plt.figure(figsize=(15,10))\n",
    "plt.grid(True)\n",
    "\n",
    "\n",
    "for sample in training_samples:\n",
    "    if sample[2] == 1.0:\n",
    "        plt.plot(sample[0],sample[1],'r+')\n",
    "    else:\n",
    "        plt.plot(sample[0],sample[1],'bo')\n",
    "        \n"
   ]
  },
  {
   "cell_type": "code",
   "execution_count": 73,
   "metadata": {},
   "outputs": [
    {
     "name": "stdout",
     "output_type": "stream",
     "text": [
      "[[ 1.01240192  3.1194891   1.        ]\n",
      " [-7.7661737  -7.33571385  3.        ]\n",
      " [ 5.68339321  7.96040385  1.        ]\n",
      " ..., \n",
      " [-3.88602015 -4.96575305  3.        ]\n",
      " [ 3.57854295  6.46357756  1.        ]\n",
      " [-5.10086287 -1.11103782  3.        ]]\n"
     ]
    }
   ],
   "source": [
    "print qd_one"
   ]
  },
  {
   "cell_type": "code",
   "execution_count": null,
   "metadata": {
    "collapsed": true
   },
   "outputs": [],
   "source": []
  }
 ],
 "metadata": {
  "kernelspec": {
   "display_name": "Python 2",
   "language": "python",
   "name": "python2"
  },
  "language_info": {
   "codemirror_mode": {
    "name": "ipython",
    "version": 2
   },
   "file_extension": ".py",
   "mimetype": "text/x-python",
   "name": "python",
   "nbconvert_exporter": "python",
   "pygments_lexer": "ipython2",
   "version": "2.7.14"
  }
 },
 "nbformat": 4,
 "nbformat_minor": 2
}
